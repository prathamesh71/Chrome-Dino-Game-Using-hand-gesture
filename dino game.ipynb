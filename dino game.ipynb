{
 "cells": [
  {
   "cell_type": "code",
   "execution_count": 1,
   "id": "b7a5fe58",
   "metadata": {},
   "outputs": [],
   "source": [
    "import cv2\n",
    "import mediapipe as mp\n",
    "import pyautogui"
   ]
  },
  {
   "cell_type": "code",
   "execution_count": 2,
   "id": "320be427",
   "metadata": {},
   "outputs": [],
   "source": [
    "mphands=mp.solutions.hands\n",
    "hands=mphands.Hands(static_image_mode=False,\n",
    "    model_complexity=1,\n",
    "    min_detection_confidence=0.75,\n",
    "    min_tracking_confidence=0.75,\n",
    "    max_num_hands=2)"
   ]
  },
  {
   "cell_type": "code",
   "execution_count": 3,
   "id": "6f488ad1",
   "metadata": {},
   "outputs": [],
   "source": [
    "mpDraw=mp.solutions.drawing_utils"
   ]
  },
  {
   "cell_type": "code",
   "execution_count": 5,
   "id": "ca7ee538",
   "metadata": {},
   "outputs": [],
   "source": [
    "cap=cv2.VideoCapture(0)\n",
    "while True:\n",
    "    flag,frame=cap.read()\n",
    "    frame=cv2.flip(frame,5)\n",
    "    frameRGB=cv2.cvtColor(frame,cv2.COLOR_BGR2RGB)\n",
    "    results=hands.process(frameRGB)\n",
    "    p=[]\n",
    "    fing=0\n",
    "    if results.multi_hand_landmarks:\n",
    "        for handlandmark in results.multi_hand_landmarks:\n",
    "            mpDraw.draw_landmarks(frame,handlandmark,mphands.HAND_CONNECTIONS)\n",
    "            for i in handlandmark.landmark:\n",
    "                p.append(i)\n",
    "        if p[8].y<p[6].y:\n",
    "            pyautogui.press('space')\n",
    "            fing=fing+1\n",
    "\n",
    "    cv2.putText(frame,f\"{fing}\",(630,35),cv2.FONT_HERSHEY_COMPLEX,0.6, (0,255,0), 2)\n",
    "    cv2.imshow('show',frame)\n",
    "    key=cv2.waitKey(1)\n",
    "    if key==ord('q'):\n",
    "        break\n",
    "cap.release()\n",
    "cv2.destroyAllWindows()"
   ]
  },
  {
   "cell_type": "code",
   "execution_count": null,
   "id": "b18e2c36",
   "metadata": {},
   "outputs": [],
   "source": [
    "#         for i in results.multi_handedness:\n",
    "# #             if i.classification[0].label=='Right':\n",
    "# #                 cv2.putText(frame,\"Right\",(30,35),cv2.FONT_HERSHEY_COMPLEX,0.6, (0,255,0), 2)\n",
    "# #             if i.classification[0].label=='Left':\n",
    "# #                 cv2.putText(frame,\"Left\",(30,35),cv2.FONT_HERSHEY_COMPLEX,0.6, (0,255,0), 2)"
   ]
  },
  {
   "cell_type": "code",
   "execution_count": null,
   "id": "90ddc934",
   "metadata": {},
   "outputs": [],
   "source": [
    "#         if p[12].y<p[10].y:\n",
    "#             fing=fing+1\n",
    "#         if p[16].y<p[14].y:\n",
    "#             fing=fing+1\n",
    "#         if p[20].y<p[18].y:\n",
    "#             fing=fing+1\n",
    "#         if p[4].x<p[3].x:\n",
    "#             fing=fing+1\"\n",
    "#     if fing>0:\n",
    "#         pyautogui.press('space')"
   ]
  }
 ],
 "metadata": {
  "kernelspec": {
   "display_name": "Python 3 (ipykernel)",
   "language": "python",
   "name": "python3"
  },
  "language_info": {
   "codemirror_mode": {
    "name": "ipython",
    "version": 3
   },
   "file_extension": ".py",
   "mimetype": "text/x-python",
   "name": "python",
   "nbconvert_exporter": "python",
   "pygments_lexer": "ipython3",
   "version": "3.10.2"
  }
 },
 "nbformat": 4,
 "nbformat_minor": 5
}
